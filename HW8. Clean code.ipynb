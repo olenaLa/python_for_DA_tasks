{
 "cells": [
  {
   "cell_type": "markdown",
   "id": "aed503f1",
   "metadata": {
    "ExecuteTime": {
     "end_time": "2023-07-27T20:14:32.871852Z",
     "start_time": "2023-07-27T20:14:31.036121Z"
    }
   },
   "source": [
    "У завданнях 1-4. Вам наданий простий код на Python, який не відповідає вказівкам PEP8. Ваше завдання — відредагувати код так, аби він відповідав PEP8. Напишіть після редагуванню коду, дотримання яких правил з pep8 ви досягли в відредагованій версі, наприклад\n",
    "```\n",
    "- додала пробіли навколо бінарного оператора\n",
    "- додала два порожні рядки між визначеннями функцій\n",
    "і тд\n",
    "```\n",
    "Також можна зазанчити використані правила коментарями по коду, а не окремим повідомленням.\n",
    "\n",
    "Відредагований код має виконувати весь той самий функціонал, але бути написаний відповідно до вимог до гарного коду на Python! Не забудьте запустити відредагований код, він має бути робочим."
   ]
  },
  {
   "cell_type": "markdown",
   "id": "e7fea147",
   "metadata": {},
   "source": [
    "Завдання 1."
   ]
  },
  {
   "cell_type": "code",
   "execution_count": 1,
   "id": "f63d84d7",
   "metadata": {
    "ExecuteTime": {
     "end_time": "2023-07-29T17:02:37.075783Z",
     "start_time": "2023-07-29T17:02:37.035259Z"
    }
   },
   "outputs": [
    {
     "name": "stdout",
     "output_type": "stream",
     "text": [
      "Hello, John\n"
     ]
    },
    {
     "data": {
      "text/plain": [
       "None"
      ]
     },
     "metadata": {},
     "output_type": "display_data"
    },
    {
     "data": {
      "text/plain": [
       "8"
      ]
     },
     "metadata": {},
     "output_type": "display_data"
    }
   ],
   "source": [
    "def greet(name):print(f\"Hello, {name}\")\n",
    "def add(n1,n2):return n1+n2\n",
    "\n",
    "x = 5;y = 3\n",
    "display(greet(\"John\"),add(x,y))\n"
   ]
  },
  {
   "cell_type": "code",
   "execution_count": 2,
   "id": "41b7e672",
   "metadata": {},
   "outputs": [
    {
     "name": "stdout",
     "output_type": "stream",
     "text": [
      "Hello, John\n",
      "8\n"
     ]
    }
   ],
   "source": [
    "def greet(name):\n",
    "#     added proper indentation\n",
    "    print(f\"Hello, {name}\")\n",
    "    \n",
    "def add(n1, n2):\n",
    "    return n1 + n2\n",
    "\n",
    "x = 5\n",
    "y = 3\n",
    "greet(\"John\")\n",
    "# changed display() to print()\n",
    "print(add(x, y))\n",
    "# separated the greet() and print() statements onto separate lines"
   ]
  },
  {
   "cell_type": "markdown",
   "id": "cea88baf",
   "metadata": {},
   "source": [
    "Завдання 2."
   ]
  },
  {
   "cell_type": "code",
   "execution_count": 3,
   "id": "dfb6d2b5",
   "metadata": {
    "ExecuteTime": {
     "end_time": "2023-07-29T17:05:49.706098Z",
     "start_time": "2023-07-29T17:05:49.688255Z"
    }
   },
   "outputs": [
    {
     "name": "stdout",
     "output_type": "stream",
     "text": [
      "Area: 78.53981633974483 Circumference: 31.41592653589793\n"
     ]
    }
   ],
   "source": [
    "from math import *\n",
    "def calcArea(r):return pi*r**2\n",
    "def calcCircumference(r):return 2*pi*r\n",
    "\n",
    "radius=5\n",
    "print(\"Area:\",calcArea(radius),\"Circumference:\",calcCircumference(radius))"
   ]
  },
  {
   "cell_type": "code",
   "execution_count": 4,
   "id": "df263672",
   "metadata": {},
   "outputs": [
    {
     "name": "stdout",
     "output_type": "stream",
     "text": [
      "Area: 78.53981633974483 Circumference: 31.41592653589793\n"
     ]
    }
   ],
   "source": [
    "from math import pi  # importing only the 'pi' constant from the math module\n",
    "\n",
    "# added spaces around operators\n",
    "def calcArea(r):\n",
    "    return pi * r ** 2\n",
    "\n",
    "def calcCircumference(r):\n",
    "    return 2 * pi * r\n",
    "\n",
    "radius = 5\n",
    "\n",
    "# separated the print statement into multiple lines\n",
    "print(\"Area:\", calcArea(radius), \"Circumference:\", calcCircumference(radius))\n"
   ]
  },
  {
   "cell_type": "markdown",
   "id": "1fd691b7",
   "metadata": {},
   "source": [
    "Завдання 3."
   ]
  },
  {
   "cell_type": "code",
   "execution_count": null,
   "id": "1d5acb2d",
   "metadata": {
    "ExecuteTime": {
     "end_time": "2023-07-29T17:06:18.612622Z",
     "start_time": "2023-07-29T17:06:18.598477Z"
    }
   },
   "outputs": [],
   "source": [
    "class animal: pass\n",
    "class dog(animal): \n",
    "    def __init__(self,name):\n",
    "        self.name=name\n",
    "        self.type='Dog'"
   ]
  },
  {
   "cell_type": "code",
   "execution_count": null,
   "id": "0d4b2b8a",
   "metadata": {},
   "outputs": [],
   "source": [
    "class Animal:  # class names should use CamelCase\n",
    "    pass\n",
    "\n",
    "class Dog(Animal):  # class names should use CamelCase;\n",
    "    def __init__(self, name):\n",
    "        self.name = name  # used spaces around assignment operators\n",
    "        self.type = 'Dog'  # used spaces around assignment operators\n"
   ]
  },
  {
   "cell_type": "markdown",
   "id": "7d1d4f5d",
   "metadata": {},
   "source": [
    "Завдання 4."
   ]
  },
  {
   "cell_type": "code",
   "execution_count": 5,
   "id": "a91c1cc4",
   "metadata": {
    "ExecuteTime": {
     "end_time": "2023-07-29T17:06:47.180263Z",
     "start_time": "2023-07-29T17:06:47.173617Z"
    }
   },
   "outputs": [
    {
     "name": "stdout",
     "output_type": "stream",
     "text": [
      "1\n",
      "2\n",
      "3\n",
      "4\n",
      "5\n"
     ]
    }
   ],
   "source": [
    "list=[1,2,3,4,5]\n",
    "for i in range(len(list)):print(list[i])"
   ]
  },
  {
   "cell_type": "code",
   "execution_count": 6,
   "id": "c0f9541a",
   "metadata": {},
   "outputs": [
    {
     "name": "stdout",
     "output_type": "stream",
     "text": [
      "1\n",
      "2\n",
      "3\n",
      "4\n",
      "5\n"
     ]
    }
   ],
   "source": [
    "my_list = [1, 2, 3, 4, 5]  # added spaces around list elements\n",
    "\n",
    "for i in range(len(my_list)):  # used spaces around the assignment operator and colon\n",
    "    print(my_list[i])  # added proper indentation\n"
   ]
  },
  {
   "cell_type": "markdown",
   "id": "8b0487e6",
   "metadata": {},
   "source": [
    "5.У вас є DataFrame df, що представляє результати тестів студентів з математики, англійської мови та історії. Поточний код обчислює середній бал для кожного студента шляхом ітерації за рядками DataFrame за допомогою iterrows().\n",
    "\n",
    "Ваше завдання полягає в тому, щоб змінити код так, аби уникнути використання iterrows() і замість цього застосувати більш ефективне та читабельне рішення відповідно до правил, озвучених у лекції. Рефакторинг треба зробити лише частині, де рахуються середні, імпорт і визначення датафрейму лишаємо без змін."
   ]
  },
  {
   "cell_type": "code",
   "execution_count": 7,
   "id": "5b3cc648",
   "metadata": {
    "ExecuteTime": {
     "end_time": "2023-07-29T17:15:55.926882Z",
     "start_time": "2023-07-29T17:15:55.686415Z"
    }
   },
   "outputs": [],
   "source": [
    "import pandas as pd\n",
    "\n",
    "df = pd.DataFrame({\n",
    "    'student': ['Alice', 'Bob', 'Charlie', 'David'],\n",
    "    'math_score': [89, 94, 77, 85],\n",
    "    'english_score': [92, 88, 79, 85],\n",
    "    'history_score': [84, 92, 81, 89]\n",
    "})"
   ]
  },
  {
   "cell_type": "code",
   "execution_count": 8,
   "id": "f5858889",
   "metadata": {
    "ExecuteTime": {
     "end_time": "2023-07-29T17:15:55.926882Z",
     "start_time": "2023-07-29T17:15:55.686415Z"
    }
   },
   "outputs": [],
   "source": [
    "averages = []\n",
    "for _, row in df.iterrows():\n",
    "    averages.append((row['math_score'] + row['english_score'] + row['history_score']) / 3)\n",
    "\n",
    "df['average_score'] = averages"
   ]
  },
  {
   "cell_type": "code",
   "execution_count": 9,
   "id": "74cea4fc",
   "metadata": {},
   "outputs": [
    {
     "name": "stdout",
     "output_type": "stream",
     "text": [
      "   student  math_score  english_score  history_score  average_score\n",
      "0    Alice          89             92             84      88.333333\n",
      "1      Bob          94             88             92      91.333333\n",
      "2  Charlie          77             79             81      79.000000\n",
      "3    David          85             85             89      86.333333\n"
     ]
    }
   ],
   "source": [
    "# Calculate the average score for each row using the mean function\n",
    "df['average_score'] = df[['math_score', 'english_score', 'history_score']].mean(axis=1)\n",
    "\n",
    "print(df)\n"
   ]
  },
  {
   "cell_type": "markdown",
   "id": "34fb1db9",
   "metadata": {},
   "source": [
    "6.У Вас є великий DataFrame df, що представляє транзакції продажу в магазині. Цей DataFrame містить понад 1 мільйон рядків і кілька стовпців, зокрема «product_name», «product_category», «product_price» і «transaction_date».\n",
    "\n",
    "І «product_name», і «product_category» є рядками, що представляють численні, але обмежені унікальні назви продуктів і категорії відповідно.\n",
    "\n",
    "Напишіть код для ефективного перетворення стовпців «product_name» і «product_category» на категорійний тип для ефективного використання пам’яті.\n",
    "Спробуйте вирішити це завдання, мінімізуючи використання пам'яті та зберігаючи читабельність коду. Крім того, виміряйте використання пам’яті до та після перетворення, щоб продемонструвати підвищення ефективності.\n",
    "\n",
    "Порівняйте кількість памʼяті, яку займає наданий набір даних і новий, створений Вами. В лекції був приклад. В скільки разів менше памʼяті займає новий датафрейм?"
   ]
  },
  {
   "cell_type": "code",
   "execution_count": 18,
   "id": "d4926909",
   "metadata": {
    "ExecuteTime": {
     "end_time": "2023-07-29T21:19:30.009527Z",
     "start_time": "2023-07-29T21:19:29.595210Z"
    }
   },
   "outputs": [
    {
     "name": "stderr",
     "output_type": "stream",
     "text": [
      "UsageError: Line magic function `%%timeit` not found.\n"
     ]
    }
   ],
   "source": [
    "import pandas as pd\n",
    "import numpy as np\n",
    "\n",
    "np.random.seed(0)\n",
    "\n",
    "products = ['apple', 'banana', 'cherry', 'dates', 'elderberry']\n",
    "categories = ['fruit', 'fruit', 'fruit', 'fruit', 'fruit']\n",
    "\n",
    "N_ROWS = 10**6\n",
    "\n",
    "df = pd.DataFrame({\n",
    "    'product_name': np.random.choice(products, N_ROWS),\n",
    "    'product_category': np.random.choice(categories, N_ROWS),\n",
    "    'product_price': np.random.uniform(1, 10, N_ROWS),\n",
    "    'transaction_date': pd.date_range(start='1/1/2000', periods=N_ROWS, freq='h')\n",
    "})\n"
   ]
  },
  {
   "cell_type": "code",
   "execution_count": 17,
   "id": "0e313e9e",
   "metadata": {},
   "outputs": [
    {
     "name": "stdout",
     "output_type": "stream",
     "text": [
      "Original Memory Usage: 141398536 bytes\n",
      "Converted Memory Usage: 18000803 bytes\n",
      "Conversion Time: 0.1720795999863185 seconds\n"
     ]
    }
   ],
   "source": [
    "import pandas as pd\n",
    "import numpy as np\n",
    "import sys\n",
    "import timeit\n",
    "\n",
    "np.random.seed(0)\n",
    "\n",
    "products = ['apple', 'banana', 'cherry', 'dates', 'elderberry']\n",
    "categories = ['fruit', 'fruit', 'fruit', 'fruit', 'fruit']\n",
    "\n",
    "N_ROWS = 10**6\n",
    "df = pd.DataFrame({\n",
    "    'product_name': np.random.choice(products, N_ROWS),\n",
    "    'product_category': np.random.choice(categories, N_ROWS),\n",
    "    'product_price': np.random.uniform(1, 10, N_ROWS),\n",
    "    'transaction_date': pd.date_range(start='1/1/2000', periods=N_ROWS, freq='h')\n",
    "})\n",
    "\n",
    "conversion_time = timeit.timeit(convert_to_categorical, number=1)\n",
    "# Measure memory usage before conversion\n",
    "original_memory = sys.getsizeof(df)\n",
    "\n",
    "# Function to convert columns to categorical type\n",
    "def convert_to_categorical():\n",
    "    df['product_name'] = df['product_name'].astype('category')\n",
    "    df['product_category'] = df['product_category'].astype('category')\n",
    "\n",
    "# Measure execution time for the conversion\n",
    "conversion_time = timeit.timeit(convert_to_categorical, number=1)\n",
    "\n",
    "# Measure memory usage after conversion\n",
    "converted_memory = sys.getsizeof(df)\n",
    "\n",
    "# Print memory usage before and after conversion\n",
    "print(\"Original Memory Usage:\", original_memory, \"bytes\")\n",
    "print(\"Converted Memory Usage:\", converted_memory, \"bytes\")\n",
    "\n",
    "# Print conversion time\n",
    "print(\"Conversion Time:\", conversion_time, \"seconds\")\n",
    "\n"
   ]
  },
  {
   "cell_type": "markdown",
   "id": "131cc08d",
   "metadata": {},
   "source": [
    "7.В цьому завданні кілька пунктів. Треба виконати усі послідовно.   \n",
    "    7.1. Завантажте дані у pandas dataframe з файла `ecommerce_data.csv`. Обовʼязково при завантаженні вкажіть параметр `encoding = 'ISO-8859-1'`, без нього буде помилка.  \n",
    "    7.2. Заповніть пропущені значення в колонці CustomerID на -1 та перетворіть тип цієї колонки на str, адже зараз вона типу float, а це не правильний тип даних для ідентифікатора клієнта.  \n",
    "    7.3. З допомогою бібліотеки sweetviz побудуйте html звіт, який порівнює дані для країни \"Germany\" і країни \"France\". У Вас можуть виникнути багато попереджень (Warning), їх рекомендую вимкнути наступним шматком коду   \n",
    "    \n",
    "   \n",
    "    import warnings\n",
    "\n",
    "    with warnings.catch_warnings(record=True):\n",
    "        # your code\n",
    "    \n",
    "    \n",
    "   7.4.Напишіть 5 відмінностей для двох зазначених країн на основі побудованого звіту, без виконання додаткового аналізу іншими інструментами. "
   ]
  },
  {
   "cell_type": "code",
   "execution_count": 3,
   "id": "17200e77",
   "metadata": {
    "scrolled": true
   },
   "outputs": [
    {
     "data": {
      "text/html": [
       "<div>\n",
       "<style scoped>\n",
       "    .dataframe tbody tr th:only-of-type {\n",
       "        vertical-align: middle;\n",
       "    }\n",
       "\n",
       "    .dataframe tbody tr th {\n",
       "        vertical-align: top;\n",
       "    }\n",
       "\n",
       "    .dataframe thead th {\n",
       "        text-align: right;\n",
       "    }\n",
       "</style>\n",
       "<table border=\"1\" class=\"dataframe\">\n",
       "  <thead>\n",
       "    <tr style=\"text-align: right;\">\n",
       "      <th></th>\n",
       "      <th>InvoiceNo</th>\n",
       "      <th>StockCode</th>\n",
       "      <th>Description</th>\n",
       "      <th>Quantity</th>\n",
       "      <th>InvoiceDate</th>\n",
       "      <th>UnitPrice</th>\n",
       "      <th>CustomerID</th>\n",
       "      <th>Country</th>\n",
       "    </tr>\n",
       "  </thead>\n",
       "  <tbody>\n",
       "    <tr>\n",
       "      <th>0</th>\n",
       "      <td>536365</td>\n",
       "      <td>85123A</td>\n",
       "      <td>WHITE HANGING HEART T-LIGHT HOLDER</td>\n",
       "      <td>6</td>\n",
       "      <td>12/1/2010 8:26</td>\n",
       "      <td>2.55</td>\n",
       "      <td>17850.0</td>\n",
       "      <td>United Kingdom</td>\n",
       "    </tr>\n",
       "    <tr>\n",
       "      <th>1</th>\n",
       "      <td>536365</td>\n",
       "      <td>71053</td>\n",
       "      <td>WHITE METAL LANTERN</td>\n",
       "      <td>6</td>\n",
       "      <td>12/1/2010 8:26</td>\n",
       "      <td>3.39</td>\n",
       "      <td>17850.0</td>\n",
       "      <td>United Kingdom</td>\n",
       "    </tr>\n",
       "    <tr>\n",
       "      <th>2</th>\n",
       "      <td>536365</td>\n",
       "      <td>84406B</td>\n",
       "      <td>CREAM CUPID HEARTS COAT HANGER</td>\n",
       "      <td>8</td>\n",
       "      <td>12/1/2010 8:26</td>\n",
       "      <td>2.75</td>\n",
       "      <td>17850.0</td>\n",
       "      <td>United Kingdom</td>\n",
       "    </tr>\n",
       "    <tr>\n",
       "      <th>3</th>\n",
       "      <td>536365</td>\n",
       "      <td>84029G</td>\n",
       "      <td>KNITTED UNION FLAG HOT WATER BOTTLE</td>\n",
       "      <td>6</td>\n",
       "      <td>12/1/2010 8:26</td>\n",
       "      <td>3.39</td>\n",
       "      <td>17850.0</td>\n",
       "      <td>United Kingdom</td>\n",
       "    </tr>\n",
       "    <tr>\n",
       "      <th>4</th>\n",
       "      <td>536365</td>\n",
       "      <td>84029E</td>\n",
       "      <td>RED WOOLLY HOTTIE WHITE HEART.</td>\n",
       "      <td>6</td>\n",
       "      <td>12/1/2010 8:26</td>\n",
       "      <td>3.39</td>\n",
       "      <td>17850.0</td>\n",
       "      <td>United Kingdom</td>\n",
       "    </tr>\n",
       "  </tbody>\n",
       "</table>\n",
       "</div>"
      ],
      "text/plain": [
       "  InvoiceNo StockCode                          Description  Quantity  \\\n",
       "0    536365    85123A   WHITE HANGING HEART T-LIGHT HOLDER         6   \n",
       "1    536365     71053                  WHITE METAL LANTERN         6   \n",
       "2    536365    84406B       CREAM CUPID HEARTS COAT HANGER         8   \n",
       "3    536365    84029G  KNITTED UNION FLAG HOT WATER BOTTLE         6   \n",
       "4    536365    84029E       RED WOOLLY HOTTIE WHITE HEART.         6   \n",
       "\n",
       "      InvoiceDate  UnitPrice  CustomerID         Country  \n",
       "0  12/1/2010 8:26       2.55     17850.0  United Kingdom  \n",
       "1  12/1/2010 8:26       3.39     17850.0  United Kingdom  \n",
       "2  12/1/2010 8:26       2.75     17850.0  United Kingdom  \n",
       "3  12/1/2010 8:26       3.39     17850.0  United Kingdom  \n",
       "4  12/1/2010 8:26       3.39     17850.0  United Kingdom  "
      ]
     },
     "execution_count": 3,
     "metadata": {},
     "output_type": "execute_result"
    }
   ],
   "source": [
    "import pandas as pd\n",
    "\n",
    "df = pd.read_csv('../data/ecommerce/ecommerce_data.csv', encoding='ISO-8859-1')\n",
    "df.head()"
   ]
  },
  {
   "cell_type": "code",
   "execution_count": 4,
   "id": "b9b4f65c",
   "metadata": {
    "scrolled": true
   },
   "outputs": [
    {
     "name": "stdout",
     "output_type": "stream",
     "text": [
      "<class 'pandas.core.frame.DataFrame'>\n",
      "RangeIndex: 541909 entries, 0 to 541908\n",
      "Data columns (total 8 columns):\n",
      " #   Column       Non-Null Count   Dtype  \n",
      "---  ------       --------------   -----  \n",
      " 0   InvoiceNo    541909 non-null  object \n",
      " 1   StockCode    541909 non-null  object \n",
      " 2   Description  540455 non-null  object \n",
      " 3   Quantity     541909 non-null  int64  \n",
      " 4   InvoiceDate  541909 non-null  object \n",
      " 5   UnitPrice    541909 non-null  float64\n",
      " 6   CustomerID   406829 non-null  float64\n",
      " 7   Country      541909 non-null  object \n",
      "dtypes: float64(2), int64(1), object(5)\n",
      "memory usage: 33.1+ MB\n"
     ]
    }
   ],
   "source": [
    "df.info()"
   ]
  },
  {
   "cell_type": "code",
   "execution_count": 5,
   "id": "be9f4467",
   "metadata": {
    "scrolled": true
   },
   "outputs": [
    {
     "name": "stdout",
     "output_type": "stream",
     "text": [
      "<class 'pandas.core.frame.DataFrame'>\n",
      "RangeIndex: 541909 entries, 0 to 541908\n",
      "Data columns (total 8 columns):\n",
      " #   Column       Non-Null Count   Dtype  \n",
      "---  ------       --------------   -----  \n",
      " 0   InvoiceNo    541909 non-null  object \n",
      " 1   StockCode    541909 non-null  object \n",
      " 2   Description  540455 non-null  object \n",
      " 3   Quantity     541909 non-null  int64  \n",
      " 4   InvoiceDate  541909 non-null  object \n",
      " 5   UnitPrice    541909 non-null  float64\n",
      " 6   CustomerID   541909 non-null  object \n",
      " 7   Country      541909 non-null  object \n",
      "dtypes: float64(1), int64(1), object(6)\n",
      "memory usage: 33.1+ MB\n"
     ]
    }
   ],
   "source": [
    "df['CustomerID'] = df['CustomerID'].fillna(-1).astype(str)\n",
    "df.info()"
   ]
  },
  {
   "cell_type": "code",
   "execution_count": 7,
   "id": "5981b6fc",
   "metadata": {},
   "outputs": [
    {
     "name": "stdout",
     "output_type": "stream",
     "text": [
      "Collecting sweetviz\n",
      "  Downloading sweetviz-2.2.1-py3-none-any.whl (15.1 MB)\n",
      "     --------------------------------------- 15.1/15.1 MB 11.1 MB/s eta 0:00:00\n",
      "Requirement already satisfied: jinja2>=2.11.1 in c:\\users\\aluna\\anaconda3\\lib\\site-packages (from sweetviz) (3.1.2)\n",
      "Collecting importlib-resources>=1.2.0\n",
      "  Downloading importlib_resources-6.0.1-py3-none-any.whl (34 kB)\n",
      "Requirement already satisfied: matplotlib>=3.1.3 in c:\\users\\aluna\\anaconda3\\lib\\site-packages (from sweetviz) (3.7.0)\n",
      "Requirement already satisfied: scipy>=1.3.2 in c:\\users\\aluna\\anaconda3\\lib\\site-packages (from sweetviz) (1.10.0)\n",
      "Requirement already satisfied: numpy>=1.16.0 in c:\\users\\aluna\\anaconda3\\lib\\site-packages (from sweetviz) (1.23.5)\n",
      "Requirement already satisfied: pandas!=1.0.0,!=1.0.1,!=1.0.2,>=0.25.3 in c:\\users\\aluna\\anaconda3\\lib\\site-packages (from sweetviz) (1.5.3)\n",
      "Requirement already satisfied: tqdm>=4.43.0 in c:\\users\\aluna\\anaconda3\\lib\\site-packages (from sweetviz) (4.64.1)\n",
      "Requirement already satisfied: MarkupSafe>=2.0 in c:\\users\\aluna\\anaconda3\\lib\\site-packages (from jinja2>=2.11.1->sweetviz) (2.1.1)\n",
      "Requirement already satisfied: packaging>=20.0 in c:\\users\\aluna\\anaconda3\\lib\\site-packages (from matplotlib>=3.1.3->sweetviz) (22.0)\n",
      "Requirement already satisfied: pillow>=6.2.0 in c:\\users\\aluna\\anaconda3\\lib\\site-packages (from matplotlib>=3.1.3->sweetviz) (9.4.0)\n",
      "Requirement already satisfied: cycler>=0.10 in c:\\users\\aluna\\anaconda3\\lib\\site-packages (from matplotlib>=3.1.3->sweetviz) (0.11.0)\n",
      "Requirement already satisfied: python-dateutil>=2.7 in c:\\users\\aluna\\anaconda3\\lib\\site-packages (from matplotlib>=3.1.3->sweetviz) (2.8.2)\n",
      "Requirement already satisfied: contourpy>=1.0.1 in c:\\users\\aluna\\anaconda3\\lib\\site-packages (from matplotlib>=3.1.3->sweetviz) (1.0.5)\n",
      "Requirement already satisfied: kiwisolver>=1.0.1 in c:\\users\\aluna\\anaconda3\\lib\\site-packages (from matplotlib>=3.1.3->sweetviz) (1.4.4)\n",
      "Requirement already satisfied: pyparsing>=2.3.1 in c:\\users\\aluna\\anaconda3\\lib\\site-packages (from matplotlib>=3.1.3->sweetviz) (3.0.9)\n",
      "Requirement already satisfied: fonttools>=4.22.0 in c:\\users\\aluna\\anaconda3\\lib\\site-packages (from matplotlib>=3.1.3->sweetviz) (4.25.0)\n",
      "Requirement already satisfied: pytz>=2020.1 in c:\\users\\aluna\\anaconda3\\lib\\site-packages (from pandas!=1.0.0,!=1.0.1,!=1.0.2,>=0.25.3->sweetviz) (2022.7)\n",
      "Requirement already satisfied: colorama in c:\\users\\aluna\\anaconda3\\lib\\site-packages (from tqdm>=4.43.0->sweetviz) (0.4.6)\n",
      "Requirement already satisfied: six>=1.5 in c:\\users\\aluna\\anaconda3\\lib\\site-packages (from python-dateutil>=2.7->matplotlib>=3.1.3->sweetviz) (1.16.0)\n",
      "Installing collected packages: importlib-resources, sweetviz\n",
      "Successfully installed importlib-resources-6.0.1 sweetviz-2.2.1\n"
     ]
    }
   ],
   "source": [
    "! pip install sweetviz"
   ]
  },
  {
   "cell_type": "code",
   "execution_count": 10,
   "id": "83f6cd90",
   "metadata": {},
   "outputs": [
    {
     "data": {
      "application/vnd.jupyter.widget-view+json": {
       "model_id": "9e3fd243fcec4a6f87725945451b92f1",
       "version_major": 2,
       "version_minor": 0
      },
      "text/plain": [
       "                                             |          | [  0%]   00:00 -> (? left)"
      ]
     },
     "metadata": {},
     "output_type": "display_data"
    },
    {
     "name": "stdout",
     "output_type": "stream",
     "text": [
      "Report sweetviz_compare_report.html was generated! NOTEBOOK/COLAB USERS: the web browser MAY not pop up, regardless, the report IS saved in your notebook/colab files.\n"
     ]
    }
   ],
   "source": [
    "import warnings\n",
    "\n",
    "with warnings.catch_warnings(record=True):\n",
    "    import sweetviz as sv\n",
    "\n",
    "    compare_report = sv.compare(\n",
    "    [df[df['Country'] == 'Germany'].sample(frac=0.2), \"Germany\"], \n",
    "    [df[df['Country'] == 'France'].sample(frac=0.2), \"France\"])\n",
    "    compare_report.show_html('sweetviz_compare_report.html')"
   ]
  },
  {
   "cell_type": "markdown",
   "id": "7a8cdecc",
   "metadata": {},
   "source": [
    "1. В Germany - більше пропущених значень в Invoice\n",
    "2. В France - більше покупців\n",
    "2. В France - дорожчі товари"
   ]
  },
  {
   "cell_type": "markdown",
   "id": "07ae375a",
   "metadata": {
    "ExecuteTime": {
     "end_time": "2023-07-30T18:55:42.650457Z",
     "start_time": "2023-07-30T18:55:42.635729Z"
    }
   },
   "source": [
    "8.З допомогою ChatGPT виявіть, чи є та які помилки в наступному коді.  \n",
    "Попросіть після цього переписати код із дотриманням PEP8. Проаналізуйте результат. Чи справді ChatGPT виправив всі стилістичні помилки? Якщо ні, напишіть йому ще кілька запитів, аби код відповідав вимогам PEP8.  \n",
    "Вставте фінальну версію коду з чату у ноутбук та запустіть на заданому списку. Має вертатись 50.  \n",
    "Напишіть, які промпти (інструкції) при зверненні до ChatGPT ви застосували та додайте скріншот(-и) з промптами та відповідями чата.  \n",
    "Якщо зробили висновки при виконанні цього завдання, то діліться також :)\n",
    "\n",
    "**ЯК ВСТАВИТИ СКРІНШОТ в Jupyter Notebook** :\n",
    "1. Створіть нову Markdown клітинку\n",
    "2. В новоствореній клітинці обираєте в меню Jupyter Notebook Edit -> Insert Image\n",
    "3. Обираєте картинку \n",
    "4. В клітинці має зʼявитись текст, який містить картинку. Запустіть клітинку.\n",
    "\n",
    "Або можна просто перетягнути картинку в Markdown клітинку."
   ]
  },
  {
   "cell_type": "code",
   "execution_count": 16,
   "id": "a5c010c4",
   "metadata": {
    "ExecuteTime": {
     "end_time": "2023-07-30T19:16:20.977219Z",
     "start_time": "2023-07-30T19:16:20.973688Z"
    }
   },
   "outputs": [],
   "source": [
    "def CalculateVariance(nl):\n",
    "    sum_list = 0\n",
    "    for n in nl:\n",
    "        sum_list = sum_list + n\n",
    "    mean = sum_list / len(nl)\n",
    "    sum_squares = 0\n",
    "    for n in nl:\n",
    "        sum_squares = sum_squares + n**2\n",
    "    mean_squares = sum_squares / len(nl)\n",
    "    return mean_squares"
   ]
  },
  {
   "cell_type": "code",
   "execution_count": 17,
   "id": "24bb3f81",
   "metadata": {
    "ExecuteTime": {
     "end_time": "2023-07-30T19:16:09.201841Z",
     "start_time": "2023-07-30T19:16:09.199174Z"
    }
   },
   "outputs": [],
   "source": [
    "input_list = [75, 80, 85, 90, 95]"
   ]
  },
  {
   "cell_type": "code",
   "execution_count": 23,
   "id": "7ebd50cb",
   "metadata": {},
   "outputs": [
    {
     "name": "stdout",
     "output_type": "stream",
     "text": [
      "50.0\n"
     ]
    }
   ],
   "source": [
    "import numpy as np\n",
    "\n",
    "def calculate_variance(nl):\n",
    "    mean = np.mean(nl)\n",
    "    mean_squares = np.mean(np.square(nl))\n",
    "    variance = mean_squares - np.square(mean)\n",
    "    return variance\n",
    "\n",
    "# Example usage\n",
    "input_list = [75, 80, 85, 90, 95]\n",
    "variance = calculate_variance(input_list)\n",
    "print(variance)"
   ]
  },
  {
   "attachments": {
    "prnscrn_error.png": {
     "image/png": "[encoded data removed]"
    }
   },
   "cell_type": "markdown",
   "id": "5116fc2e",
   "metadata": {},
   "source": [
    "![prnscrn_error.png](attachment:prnscrn_error.png)"
   ]
  },
  {
   "attachments": {
    "prnscrn_PEP8.png": {
     "image/png": "[encoded data removed]"
    }
   },
   "cell_type": "markdown",
   "id": "62b56d7a",
   "metadata": {},
   "source": [
    "![prnscrn_PEP8.png](attachment:prnscrn_PEP8.png)"
   ]
  },
  {
   "cell_type": "markdown",
   "id": "e759e018",
   "metadata": {},
   "source": [
    "Проблема полягала в тому, що вихідний код, обчислював середнє значення квадратів чисел, а не фактичну дисперсію."
   ]
  }
 ],
 "metadata": {
  "kernelspec": {
   "display_name": "Python 3 (ipykernel)",
   "language": "python",
   "name": "python3"
  },
  "language_info": {
   "codemirror_mode": {
    "name": "ipython",
    "version": 3
   },
   "file_extension": ".py",
   "mimetype": "text/x-python",
   "name": "python",
   "nbconvert_exporter": "python",
   "pygments_lexer": "ipython3",
   "version": "3.10.9"
  },
  "toc": {
   "base_numbering": 1,
   "nav_menu": {},
   "number_sections": true,
   "sideBar": true,
   "skip_h1_title": false,
   "title_cell": "Table of Contents",
   "title_sidebar": "Contents",
   "toc_cell": false,
   "toc_position": {},
   "toc_section_display": true,
   "toc_window_display": false
  }
 },
 "nbformat": 4,
 "nbformat_minor": 5
}
